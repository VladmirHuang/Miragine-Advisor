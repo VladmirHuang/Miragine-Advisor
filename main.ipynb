{
 "cells": [
  {
   "cell_type": "code",
   "execution_count": 1,
   "metadata": {},
   "outputs": [],
   "source": [
    "import numpy as np\n",
    "import time\n",
    "import sys\n",
    "import random\n",
    "from threading import Timer\n",
    "sys.path.append('./utils')\n",
    "from Reaction import *\n",
    "from GenerateStrategies import *"
   ]
  },
  {
   "cell_type": "code",
   "execution_count": 2,
   "metadata": {},
   "outputs": [],
   "source": [
    "money_mode = np.load('./strategies/money_mode.npy')\n",
    "supply_mode = np.load('./strategies/supply_mode.npy')"
   ]
  },
  {
   "cell_type": "code",
   "execution_count": 3,
   "metadata": {},
   "outputs": [],
   "source": [
    "stage = 0"
   ]
  },
  {
   "cell_type": "code",
   "execution_count": 4,
   "metadata": {},
   "outputs": [],
   "source": [
    "# Decide how to survive.\n",
    "waits = (140, 270, 370, 580)"
   ]
  },
  {
   "cell_type": "code",
   "execution_count": 5,
   "metadata": {},
   "outputs": [],
   "source": [
    "'''\n",
    "Decide which army to choose based on given strategies. Quick and cheap armies are favored.\n",
    "'''\n",
    "def decide_move(strategy, opmove):\n",
    "    if opmove == 6:  # 对付Ninja指定用Samurai\n",
    "        return 4\n",
    "    if opmove == 7:  # 对付Novice指定用Ninja\n",
    "        return 6\n",
    "    if opmove == 13:  # 对付Mage指定用Immortal\n",
    "        return 12\n",
    "    if (strategy[1] in (6, 8, 11, 14)) and (strategy[0] not in (6, 8, 9, 11, 12, 14, 15, 16)):\n",
    "        return strategy[1]\n",
    "\n",
    "    return strategy[0]"
   ]
  },
  {
   "cell_type": "code",
   "execution_count": 6,
   "metadata": {},
   "outputs": [
    {
     "name": "stderr",
     "output_type": "stream",
     "text": [
      "d:\\mypyprojects\\miragine\\./utils\\Reaction.py:95: RuntimeWarning: Mean of empty slice.\n",
      "  x_mean = np.array(x_all).mean()\n",
      "e:\\veighna_studio\\lib\\site-packages\\numpy\\core\\_methods.py:190: RuntimeWarning: invalid value encountered in double_scalars\n",
      "  ret = ret.dtype.type(ret / rcount)\n",
      "d:\\mypyprojects\\miragine\\./utils\\Reaction.py:96: RuntimeWarning: Mean of empty slice.\n",
      "  y_mean = np.array(y_all).mean()\n"
     ]
    }
   ],
   "source": [
    "t0 = time.time()\n",
    "last_move = None\n",
    "op_last_move = None\n",
    "allow_surprise = False\n",
    "surprise_area = (1100, 800, 1200, 860)\n",
    "defense_area = (720, 800, 900, 860)\n",
    "turn_time = 24.9  # 每一轮的时间\n",
    "stage = 0\n",
    "\n",
    "'''\n",
    "Stage 0.\n",
    "'''\n",
    "while stage == 0:\n",
    "    t1 = time.time()\n",
    "\n",
    "    '''\n",
    "    Decide my move.\n",
    "    '''\n",
    "    try:\n",
    "        opmove = get_opponent_move()\n",
    "    except:\n",
    "        continue\n",
    "\n",
    "    if opmove == 16:  # 一旦对手出High Lord，我就进入stage 1 应对。\n",
    "        stage = 1\n",
    "        break\n",
    "\n",
    "    my_moves = money_mode[opmove-1]\n",
    "    surprise = surprise_attack(allow_surprise, stage, opmove, surprise_area)  # 前几轮没有压倒性优势，不允许奇袭。对方出Lord，我也出High Lord\n",
    "\n",
    "    if surprise != False:\n",
    "        my_move = surprise\n",
    "    else:\n",
    "        if t1 - t0 < waits[0]:\n",
    "            my_move = 1  # 前三轮刷小兵赚钱，反正塔有防御，对面攻不过来\n",
    "        elif t1 - t0 < waits[1]:\n",
    "            my_move = random.choice([4, 5, 6])  # 然后刷Samurai/Sword Man/Ninja赚钱，反正塔有防御，对面攻不过来\n",
    "        elif t1 - t0 < waits[2]:\n",
    "            strategy = np.extract(my_moves <= 9, my_moves)\n",
    "            my_move = decide_move(strategy, opmove)\n",
    "        elif t1 - t0 < waits[3]:  # 中间轮不用Lord\n",
    "            strategy = np.extract(my_moves <= 14, my_moves)\n",
    "            my_move = decide_move(strategy, opmove)\n",
    "            allow_surprise = True\n",
    "        else:\n",
    "            strategy = my_moves\n",
    "            my_move = decide_move(strategy, opmove)\n",
    "            allow_surprise = True\n",
    "    \n",
    "    \n",
    "    click_area(my_move)\n",
    "    last_move = my_move\n",
    "    op_last_move = opmove\n",
    "\n",
    "    time.sleep(0.01)\n",
    "\n",
    "'''\n",
    "Stage 1.\n",
    "'''\n",
    "t_0 = time.time() - 0.1\n",
    "turns = 0\n",
    "opmoves = [16, 16]\n",
    "\n",
    "while stage == 1:\n",
    "\n",
    "\n",
    "    try:\n",
    "        opmove = get_opponent_move()\n",
    "    except:\n",
    "        continue  # 跳过本次循环\n",
    "\n",
    "    surprise = surprise_attack(allow_surprise, stage, opmove, surprise_area)\n",
    "\n",
    "    if turns % 2 == 1 or defense(defense_area):\n",
    "        my_move = 16\n",
    "        click_area(my_move)\n",
    "        time.sleep(6)\n",
    "        click_area(7)\n",
    "    \n",
    "    elif surprise != False:  # 奇袭优先\n",
    "        my_move = surprise\n",
    "\n",
    "    else:\n",
    "        if opmove != 16:\n",
    "            my_moves = supply_mode[opmove-1]\n",
    "            strategy = np.extract(my_moves <= 14, my_moves)\n",
    "            for i in strategy:\n",
    "                if i in (4, 6, 7, 9, 10, 12, 13):  # 找到符合要求的最优军种\n",
    "                    my_move = i\n",
    "                    break\n",
    "\n",
    "        elif opmoves[-2] != 16:  # 对方只出一轮High Lord，我上两轮压制。\n",
    "            my_move == 16\n",
    "                \n",
    "        else:\n",
    "            my_move = 10  # 没事补点Vampire。\n",
    "\n",
    "        click_area(my_move)\n",
    "\n",
    "    turns = turns + 1\n",
    "    opmoves.append(opmove)\n",
    "    \n",
    "    t_1 = time.time()\n",
    "    time.sleep(turn_time - (t_1 - t_0) % turn_time)"
   ]
  }
 ],
 "metadata": {
  "kernelspec": {
   "display_name": "Python 3.10.2 64-bit",
   "language": "python",
   "name": "python3"
  },
  "language_info": {
   "codemirror_mode": {
    "name": "ipython",
    "version": 3
   },
   "file_extension": ".py",
   "mimetype": "text/x-python",
   "name": "python",
   "nbconvert_exporter": "python",
   "pygments_lexer": "ipython3",
   "version": "3.10.2"
  },
  "orig_nbformat": 4,
  "vscode": {
   "interpreter": {
    "hash": "6b2646287c55ede0d9e653d2457e23dca47fa12bf32b35d4e6fd642a46f10df8"
   }
  }
 },
 "nbformat": 4,
 "nbformat_minor": 2
}
